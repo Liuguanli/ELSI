{
 "cells": [
  {
   "cell_type": "code",
   "execution_count": 1,
   "id": "ab680a97",
   "metadata": {
    "ExecuteTime": {
     "end_time": "2022-09-20T06:17:19.974849Z",
     "start_time": "2022-09-20T06:17:19.166432Z"
    }
   },
   "outputs": [],
   "source": [
    "import pandas as pd\n",
    "from sklearn import preprocessing\n",
    "from sklearn.datasets import make_classification\n",
    "from sklearn.ensemble import RandomForestRegressor\n",
    "from sklearn.ensemble import RandomForestClassifier\n",
    "from sklearn.tree import DecisionTreeRegressor\n",
    "from sklearn.tree import DecisionTreeClassifier\n",
    "from sklearn.neural_network import MLPRegressor\n",
    "import matplotlib.pyplot as plt\n",
    "import os, sys\n",
    "import time, timeit\n",
    "import csv\n",
    "from sklearn.utils import shuffle\n",
    "\n",
    "\n",
    "# from joblib import dump, load\n",
    "\n",
    "# from IPython.display import Image, display\n",
    "# from six import StringIO\n",
    "# from sklearn.tree import export_graphviz\n",
    "max_cardinality = 6400.0"
   ]
  },
  {
   "cell_type": "code",
   "execution_count": 2,
   "id": "d84064ff",
   "metadata": {
    "ExecuteTime": {
     "end_time": "2022-09-20T06:17:19.978259Z",
     "start_time": "2022-09-20T06:17:19.975794Z"
    }
   },
   "outputs": [],
   "source": [
    "def read_date(file_name):\n",
    "    df = pd.read_csv(file_name, header=None)\n",
    "    df = df[df[0] <= max_cardinality]\n",
    "#     print(df)\n",
    "    train_x = df[[0,1,2,3,4,5,6,7,8,9]]    \n",
    "    train_y1 = df[[10]]    \n",
    "    train_y2 = df[[11]]\n",
    "    return train_x, train_y1, train_y2"
   ]
  },
  {
   "cell_type": "code",
   "execution_count": 3,
   "id": "a829146f",
   "metadata": {
    "ExecuteTime": {
     "end_time": "2022-09-20T06:17:20.028480Z",
     "start_time": "2022-09-20T06:17:19.979439Z"
    }
   },
   "outputs": [],
   "source": [
    "def build_cost_model(train_x, train_y1, train_y2, name):\n",
    "    build_models = {\n",
    "        \"rfr\" : RandomForestRegressor(max_depth=1, n_estimators=20, random_state=0),\n",
    "        \"rfc\" : RandomForestClassifier(max_depth=1, random_state=0),\n",
    "        \"dtr\" : DecisionTreeRegressor(max_depth=1),\n",
    "        \"dtc\" : DecisionTreeClassifier(max_depth=1),\n",
    "        \"nn\" : MLPRegressor(hidden_layer_sizes=(32,), activation='relu', learning_rate='constant', learning_rate_init=0.01,  max_iter=500)\n",
    "    }\n",
    "    query_models = {\n",
    "        \"rfr\" : RandomForestRegressor(max_depth=1, n_estimators=20, random_state=0),\n",
    "        \"rfc\" : RandomForestClassifier(max_depth=1, random_state=0),\n",
    "        \"dtr\" : DecisionTreeRegressor(max_depth=1),\n",
    "        \"dtc\" : DecisionTreeClassifier(max_depth=1),\n",
    "        \"nn\" : MLPRegressor(hidden_layer_sizes=(32,), activation='relu', learning_rate='constant', learning_rate_init=0.01,  max_iter=500)\n",
    "    }\n",
    "    if name == \"rfr\" or name == \"dtr\" or name == \"nn\":\n",
    "        train_y1 = train_y1 / 6\n",
    "        train_y2 = train_y2 / 6\n",
    "    train_x[0] /= max_cardinality\n",
    "    return build_models[name].fit(train_x, train_y1), query_models[name].fit(train_x, train_y2)"
   ]
  },
  {
   "cell_type": "code",
   "execution_count": 4,
   "id": "e7701592",
   "metadata": {
    "ExecuteTime": {
     "end_time": "2022-09-20T06:17:20.031674Z",
     "start_time": "2022-09-20T06:17:20.029341Z"
    }
   },
   "outputs": [],
   "source": [
    "def predict_score(models, name, xs, lamb):\n",
    "    build_model, query_model = models[name]\n",
    "#     if name == \"nn\":\n",
    "#         print( build_model.predict(xs) * lamb, query_model.predict(xs) * (1 - lamb))\n",
    "    return build_model.predict(xs) * lamb + query_model.predict(xs) * (1 - lamb)"
   ]
  },
  {
   "cell_type": "code",
   "execution_count": 5,
   "id": "84f511fa",
   "metadata": {
    "ExecuteTime": {
     "end_time": "2022-09-20T06:17:20.277688Z",
     "start_time": "2022-09-20T06:17:20.032474Z"
    }
   },
   "outputs": [
    {
     "name": "stderr",
     "output_type": "stream",
     "text": [
      "/tmp/ipykernel_3776381/2986489242.py:20: DataConversionWarning: A column-vector y was passed when a 1d array was expected. Please change the shape of y to (n_samples,), for example using ravel().\n",
      "  return build_models[name].fit(train_x, train_y1), query_models[name].fit(train_x, train_y2)\n",
      "/tmp/ipykernel_3776381/2986489242.py:20: DataConversionWarning: A column-vector y was passed when a 1d array was expected. Please change the shape of y to (n_samples,), for example using ravel().\n",
      "  return build_models[name].fit(train_x, train_y1), query_models[name].fit(train_x, train_y2)\n",
      "/tmp/ipykernel_3776381/2986489242.py:20: DataConversionWarning: A column-vector y was passed when a 1d array was expected. Please change the shape of y to (n_samples,), for example using ravel().\n",
      "  return build_models[name].fit(train_x, train_y1), query_models[name].fit(train_x, train_y2)\n",
      "/tmp/ipykernel_3776381/2986489242.py:20: DataConversionWarning: A column-vector y was passed when a 1d array was expected. Please change the shape of y to (n_samples,), for example using ravel().\n",
      "  return build_models[name].fit(train_x, train_y1), query_models[name].fit(train_x, train_y2)\n",
      "/home/liuguanli/anaconda3/lib/python3.9/site-packages/sklearn/utils/validation.py:63: DataConversionWarning: A column-vector y was passed when a 1d array was expected. Please change the shape of y to (n_samples, ), for example using ravel().\n",
      "  return f(*args, **kwargs)\n",
      "/home/liuguanli/anaconda3/lib/python3.9/site-packages/sklearn/utils/validation.py:63: DataConversionWarning: A column-vector y was passed when a 1d array was expected. Please change the shape of y to (n_samples, ), for example using ravel().\n",
      "  return f(*args, **kwargs)\n"
     ]
    }
   ],
   "source": [
    "file_name = 'train_set_formatted.csv'     \n",
    "train_x, train_y1, train_y2 = read_date(file_name)\n",
    "models = {\n",
    "    \"rfr\" : build_cost_model(train_x, train_y1, train_y2, \"rfr\"),\n",
    "    \"rfc\" : build_cost_model(train_x, train_y1, train_y2, \"rfc\"),\n",
    "    \"dtr\" : build_cost_model(train_x, train_y1, train_y2, \"dtr\"),\n",
    "    \"dtc\" : build_cost_model(train_x, train_y1, train_y2, \"dtr\"),\n",
    "    \"nn\" : build_cost_model(train_x, train_y1, train_y2, \"nn\")\n",
    "}\n"
   ]
  },
  {
   "cell_type": "code",
   "execution_count": 6,
   "id": "7af0948d",
   "metadata": {
    "ExecuteTime": {
     "end_time": "2022-09-20T06:17:20.282765Z",
     "start_time": "2022-09-20T06:17:20.278536Z"
    }
   },
   "outputs": [],
   "source": [
    "class Record:\n",
    "    def __init__(self, record):\n",
    "        self.cardinality = int(record[0])\n",
    "        self.distribution = list(map(int, record[1:4]))\n",
    "        self.method = list(map(int, record[4:10]))      \n",
    "        self.build_score = int(record[10])        \n",
    "        self.query_score = int(record[11])\n",
    "    \n",
    "    def is_same(self, record):\n",
    "        if self.cardinality != record.cardinality:\n",
    "            return False\n",
    "        if self.distribution != record.distribution:\n",
    "            return False\n",
    "        if self.method != record.method:\n",
    "            return False\n",
    "        return True\n",
    "            \n",
    "\n",
    "    def __str__(self):\n",
    "        return  str(self.cardinality) + \"-\" + str(self.distribution) + \"-\" + str(self.method)+ \"-\" +str(self.build_score) + \"-\" + str(self.build_score) + \"\\n\"\n",
    "    \n",
    "    def __repr__(self):\n",
    "                return  str(self.cardinality) + \"-\" + str(self.distribution) + \"-\" + str(self.method)+ \"-\" +str(self.build_score) + \"-\" + str(self.build_score) + \"\\n\""
   ]
  },
  {
   "cell_type": "code",
   "execution_count": 7,
   "id": "ef3207aa",
   "metadata": {
    "ExecuteTime": {
     "end_time": "2022-09-20T06:17:20.286185Z",
     "start_time": "2022-09-20T06:17:20.283812Z"
    }
   },
   "outputs": [],
   "source": [
    "def read_records(input_data_file):\n",
    "    records = []\n",
    "    with open(input_data_file) as csvfile:\n",
    "        reader = csv.reader(csvfile, delimiter = ',')\n",
    "        for i, row in enumerate(reader):\n",
    "            record = Record(row)\n",
    "            records.append(record)\n",
    "    return records"
   ]
  },
  {
   "cell_type": "code",
   "execution_count": 8,
   "id": "2dce7562",
   "metadata": {
    "ExecuteTime": {
     "end_time": "2022-09-20T06:17:20.289531Z",
     "start_time": "2022-09-20T06:17:20.287582Z"
    }
   },
   "outputs": [],
   "source": [
    "def find_record(target, records):\n",
    "    for record in records:\n",
    "        if record.is_same(target):\n",
    "            return record\n",
    "    return None"
   ]
  },
  {
   "cell_type": "code",
   "execution_count": 9,
   "id": "bc1577f1",
   "metadata": {
    "ExecuteTime": {
     "end_time": "2022-09-20T06:18:00.096904Z",
     "start_time": "2022-09-20T06:17:20.290358Z"
    },
    "code_folding": []
   },
   "outputs": [
    {
     "name": "stdout",
     "output_type": "stream",
     "text": [
      "{'rfr': 0.78, 'rfc': 0.1, 'dtr': 0.78, 'dtc': 0.78, 'nn': 0.78}\n",
      "{'rfr': 0.78, 'rfc': 0.78, 'dtr': 0.78, 'dtc': 0.78, 'nn': 0.78}\n",
      "{'rfr': 0.78, 'rfc': 0.78, 'dtr': 0.78, 'dtc': 0.78, 'nn': 0.78}\n",
      "{'rfr': 0.85, 'rfc': 0.85, 'dtr': 0.85, 'dtc': 0.85, 'nn': 0.85}\n",
      "{'rfr': 0.83, 'rfc': 0.83, 'dtr': 0.83, 'dtc': 0.83, 'nn': 0.83}\n",
      "{'rfr': 0.29, 'rfc': 0.66, 'dtr': 0.29, 'dtc': 0.29, 'nn': 0.66}\n",
      "{'rfr': 0.46, 'rfc': 0.49, 'dtr': 0.46, 'dtc': 0.46, 'nn': 0.49}\n",
      "{'rfr': 0.76, 'rfc': 0.15, 'dtr': 0.76, 'dtc': 0.76, 'nn': 0.76}\n",
      "{'rfr': 0.98, 'rfc': 0.98, 'dtr': 0.98, 'dtc': 0.98, 'nn': 0.98}\n",
      "{'rfr': 1.0, 'rfc': 1.0, 'dtr': 1.0, 'dtc': 1.0, 'nn': 1.0}\n",
      "{'rfr': 1.0, 'rfc': 1.0, 'dtr': 1.0, 'dtc': 1.0, 'nn': 1.0}\n",
      "[0.78, 0.78, 0.78, 0.85, 0.83, 0.29, 0.46, 0.76, 0.98, 1.0, 1.0]\n",
      "[0.1, 0.78, 0.78, 0.85, 0.83, 0.66, 0.49, 0.15, 0.98, 1.0, 1.0]\n",
      "[0.78, 0.78, 0.78, 0.85, 0.83, 0.29, 0.46, 0.76, 0.98, 1.0, 1.0]\n",
      "[0.78, 0.78, 0.78, 0.85, 0.83, 0.29, 0.46, 0.76, 0.98, 1.0, 1.0]\n",
      "[0.78, 0.78, 0.78, 0.85, 0.83, 0.66, 0.49, 0.76, 0.98, 1.0, 1.0]\n"
     ]
    }
   ],
   "source": [
    "def test_model(records, models):\n",
    "    distributions = {'normal':[1,0,0],'skewed':[0,1,0],'uniform':[0,0,1]}\n",
    "    methods = {'cl':[1,0,0,0,0,0],'mr':[0,1,0,0,0,0],'original':[0,0,1,0,0,0],\n",
    "                'rl':[0,0,0,1,0,0],'rs':[0,0,0,0,1,0],'sp':[0,0,0,0,0,1]}\n",
    "    cardinality = [1, 2, 4, 8, 16, 32, 64, 128, 200, 400, 600, 800, 1600, 3200, 6400]\n",
    "    lambdas = [0.1 * i for i in range(11)]\n",
    "    model_names = models.keys()\n",
    "    res = {}\n",
    "    for name in model_names:\n",
    "        res[name] = []\n",
    "    for lamb in lambdas:\n",
    "        model_accuracy = {}\n",
    "        total_num = 0\n",
    "        for name in model_names:\n",
    "            model_accuracy[name] = 0\n",
    "        for card in cardinality:\n",
    "#             if card > max_cardinality:\n",
    "#                 continue\n",
    "            for dist in distributions.keys():\n",
    "                # here find a method\n",
    "                best_method = ''\n",
    "                max_score = -100\n",
    "                for method in methods.keys():\n",
    "                    record = []\n",
    "                    record.append(card)\n",
    "                    record.extend(distributions[dist])\n",
    "                    record.extend(methods[method])\n",
    "                    record.append(0)\n",
    "                    record.append(0)\n",
    "                    temp = Record(record)\n",
    "                    result = find_record(temp, records)\n",
    "                    if result is None:\n",
    "                        continue\n",
    "                    current_score = result.build_score * lamb + result.query_score * (1 - lamb)  \n",
    "                    \n",
    "                    if current_score > max_score:\n",
    "                        max_score = current_score\n",
    "                        best_method = method\n",
    "                if best_method == '':\n",
    "                    continue\n",
    "#                 print(\"lambda\", lamb, \"cardinality\", card, \"distribution\", dist, \"method\", best_method)\n",
    "                total_num += 1\n",
    "                for name in model_names:\n",
    "                    max_score = -100\n",
    "                    choosed_method = ''\n",
    "                    for method in methods.keys():\n",
    "                        record = []\n",
    "                        record.append(card / max_cardinality)\n",
    "                        record.extend(distributions[dist])\n",
    "                        record.extend(methods[method])\n",
    "                        current_score = predict_score(models, name, [record], lamb)\n",
    "#                         print(\"current_score\", current_score)\n",
    "                        \n",
    "                        if current_score > max_score:\n",
    "                            max_score = current_score\n",
    "                            choosed_method = method\n",
    "#                     print(name, choosed_method, best_method, choosed_method == best_method)\n",
    "                    if best_method == choosed_method:\n",
    "                        model_accuracy[name] = model_accuracy[name] + 1\n",
    "        for name in model_names:\n",
    "            model_accuracy[name] = round(model_accuracy[name] / total_num, 2)\n",
    "        print(model_accuracy)\n",
    "        for name in model_names:\n",
    "            res[name].append(model_accuracy[name])\n",
    "    for name in model_names:\n",
    "        print(res[name])\n",
    "            \n",
    "test_model(read_records(file_name), models)  "
   ]
  }
 ],
 "metadata": {
  "kernelspec": {
   "display_name": "Python 3 (ipykernel)",
   "language": "python",
   "name": "python3"
  },
  "language_info": {
   "codemirror_mode": {
    "name": "ipython",
    "version": 3
   },
   "file_extension": ".py",
   "mimetype": "text/x-python",
   "name": "python",
   "nbconvert_exporter": "python",
   "pygments_lexer": "ipython3",
   "version": "3.9.7"
  },
  "toc": {
   "base_numbering": 1,
   "nav_menu": {},
   "number_sections": true,
   "sideBar": true,
   "skip_h1_title": false,
   "title_cell": "Table of Contents",
   "title_sidebar": "Contents",
   "toc_cell": false,
   "toc_position": {},
   "toc_section_display": true,
   "toc_window_display": false
  },
  "varInspector": {
   "cols": {
    "lenName": 16,
    "lenType": 16,
    "lenVar": 40
   },
   "kernels_config": {
    "python": {
     "delete_cmd_postfix": "",
     "delete_cmd_prefix": "del ",
     "library": "var_list.py",
     "varRefreshCmd": "print(var_dic_list())"
    },
    "r": {
     "delete_cmd_postfix": ") ",
     "delete_cmd_prefix": "rm(",
     "library": "var_list.r",
     "varRefreshCmd": "cat(var_dic_list()) "
    }
   },
   "types_to_exclude": [
    "module",
    "function",
    "builtin_function_or_method",
    "instance",
    "_Feature"
   ],
   "window_display": false
  }
 },
 "nbformat": 4,
 "nbformat_minor": 5
}
