{
 "cells": [
  {
   "cell_type": "code",
   "execution_count": 1,
   "id": "1c93ec0b",
   "metadata": {
    "ExecuteTime": {
     "end_time": "2022-09-20T02:31:08.816215Z",
     "start_time": "2022-09-20T02:31:08.085373Z"
    }
   },
   "outputs": [],
   "source": [
    "# https://www.kaggle.com/plantsgo/solution-public-0-471-private-0-505\n",
    "import pandas as pd\n",
    "from sklearn import preprocessing\n",
    "from sklearn.datasets import make_classification\n",
    "from sklearn.ensemble import RandomForestRegressor\n",
    "from sklearn.ensemble import RandomForestClassifier\n",
    "from sklearn.tree import DecisionTreeRegressor\n",
    "from sklearn.tree import DecisionTreeClassifier\n",
    "from sklearn.neural_network import MLPRegressor\n",
    "import matplotlib.pyplot as plt\n",
    "import os, sys\n",
    "import time, timeit\n",
    "import csv\n",
    "from sklearn.utils import shuffle\n",
    "\n",
    "\n",
    "from joblib import dump, load\n",
    "\n",
    "from IPython.display import Image, display\n",
    "from six import StringIO\n",
    "from sklearn.tree import export_graphviz\n"
   ]
  },
  {
   "cell_type": "code",
   "execution_count": 2,
   "id": "172c62b4",
   "metadata": {
    "ExecuteTime": {
     "end_time": "2022-09-20T02:31:08.819392Z",
     "start_time": "2022-09-20T02:31:08.817011Z"
    }
   },
   "outputs": [],
   "source": [
    "def read_date(file_name):\n",
    "    df = pd.read_csv(file_name, header=None)\n",
    "    train_x = df[[0,1,2,3,4,5,6,7,8,9]]    \n",
    "    train_y1 = df[[10]]    \n",
    "    train_y2 = df[[11]]\n",
    "    return train_x, train_y1, train_y2"
   ]
  },
  {
   "cell_type": "code",
   "execution_count": 3,
   "id": "8da293f6",
   "metadata": {
    "ExecuteTime": {
     "end_time": "2022-09-20T02:31:08.856804Z",
     "start_time": "2022-09-20T02:31:08.820332Z"
    }
   },
   "outputs": [],
   "source": [
    "def build_cost_model(train_x, train_y1, train_y2, name):\n",
    "    build_models = {\n",
    "        \"rfr\" : RandomForestRegressor(max_depth=2, n_estimators=20, random_state=0),\n",
    "        \"rfc\" : RandomForestClassifier(max_depth=2, random_state=0),\n",
    "        \"dtr\" : DecisionTreeRegressor(max_depth=2),\n",
    "        \"dtc\" : DecisionTreeClassifier(max_depth=2),\n",
    "        \"nn\" : MLPRegressor(hidden_layer_sizes=(32,), random_state=0, max_iter=100)\n",
    "    }\n",
    "    query_models = {\n",
    "        \"rfr\" : RandomForestRegressor(max_depth=2, n_estimators=20, random_state=0),\n",
    "        \"rfc\" : RandomForestClassifier(max_depth=2, random_state=0),\n",
    "        \"dtr\" : DecisionTreeRegressor(max_depth=2),\n",
    "        \"dtc\" : DecisionTreeClassifier(max_depth=2),\n",
    "        \"nn\" : MLPRegressor(hidden_layer_sizes=(32,), random_state=0, max_iter=100)\n",
    "    }\n",
    "    if name == \"rfr\" or name == \"dtr\" or name == \"nn\":\n",
    "        train_y1 = train_y1 / 6\n",
    "        train_y2 = train_y2 / 6\n",
    "    return build_models[name].fit(train_x, train_y1), query_models[name].fit(train_x, train_y2)"
   ]
  },
  {
   "cell_type": "code",
   "execution_count": 4,
   "id": "b9b862c7",
   "metadata": {
    "ExecuteTime": {
     "end_time": "2022-09-20T02:31:08.860252Z",
     "start_time": "2022-09-20T02:31:08.857791Z"
    }
   },
   "outputs": [],
   "source": [
    "def predict_score(models, name, xs, lamb):\n",
    "    build_model, predict_model = models[name]\n",
    "    return build_model.predict(xs) * lamb + predict_model.predict(xs) * (1 - lamb)"
   ]
  },
  {
   "cell_type": "code",
   "execution_count": 5,
   "id": "1a855f9f",
   "metadata": {
    "ExecuteTime": {
     "end_time": "2022-09-20T02:31:09.099756Z",
     "start_time": "2022-09-20T02:31:08.860948Z"
    }
   },
   "outputs": [
    {
     "name": "stderr",
     "output_type": "stream",
     "text": [
      "/tmp/ipykernel_3740638/2289608645.py:19: DataConversionWarning: A column-vector y was passed when a 1d array was expected. Please change the shape of y to (n_samples,), for example using ravel().\n",
      "  return build_models[name].fit(train_x, train_y1), query_models[name].fit(train_x, train_y2)\n",
      "/tmp/ipykernel_3740638/2289608645.py:19: DataConversionWarning: A column-vector y was passed when a 1d array was expected. Please change the shape of y to (n_samples,), for example using ravel().\n",
      "  return build_models[name].fit(train_x, train_y1), query_models[name].fit(train_x, train_y2)\n",
      "/tmp/ipykernel_3740638/2289608645.py:19: DataConversionWarning: A column-vector y was passed when a 1d array was expected. Please change the shape of y to (n_samples,), for example using ravel().\n",
      "  return build_models[name].fit(train_x, train_y1), query_models[name].fit(train_x, train_y2)\n",
      "/tmp/ipykernel_3740638/2289608645.py:19: DataConversionWarning: A column-vector y was passed when a 1d array was expected. Please change the shape of y to (n_samples,), for example using ravel().\n",
      "  return build_models[name].fit(train_x, train_y1), query_models[name].fit(train_x, train_y2)\n",
      "/home/liuguanli/anaconda3/lib/python3.9/site-packages/sklearn/utils/validation.py:63: DataConversionWarning: A column-vector y was passed when a 1d array was expected. Please change the shape of y to (n_samples, ), for example using ravel().\n",
      "  return f(*args, **kwargs)\n",
      "/home/liuguanli/anaconda3/lib/python3.9/site-packages/sklearn/utils/validation.py:63: DataConversionWarning: A column-vector y was passed when a 1d array was expected. Please change the shape of y to (n_samples, ), for example using ravel().\n",
      "  return f(*args, **kwargs)\n"
     ]
    }
   ],
   "source": [
    "train_x, train_y1, train_y2 = read_date(file_name)\n",
    "models = {\n",
    "    \"rfr\" : build_cost_model(train_x, train_y1, train_y2, \"rfr\"),\n",
    "    \"rfc\" : build_cost_model(train_x, train_y1, train_y2, \"rfc\"),\n",
    "    \"dtr\" : build_cost_model(train_x, train_y1, train_y2, \"dtr\"),\n",
    "    \"dtc\" : build_cost_model(train_x, train_y1, train_y2, \"dtr\"),\n",
    "    \"nn\" : build_cost_model(train_x, train_y1, train_y2, \"nn\")\n",
    "}\n"
   ]
  },
  {
   "cell_type": "code",
   "execution_count": 6,
   "id": "6c5130d8",
   "metadata": {
    "ExecuteTime": {
     "end_time": "2022-09-20T02:31:09.104948Z",
     "start_time": "2022-09-20T02:31:09.100779Z"
    }
   },
   "outputs": [],
   "source": [
    "class Record:\n",
    "    def __init__(self, record):\n",
    "        self.cardinality = int(record[0])\n",
    "        self.distribution = list(map(int, record[1:4]))\n",
    "        self.method = list(map(int, record[4:10]))      \n",
    "        self.build_score = int(record[10])        \n",
    "        self.query_score = int(record[11])\n",
    "    \n",
    "    def is_same(self, record):\n",
    "        if self.cardinality != record.cardinality:\n",
    "            return False\n",
    "        if self.distribution != record.distribution:\n",
    "            return False\n",
    "        if self.method != record.method:\n",
    "            return False\n",
    "        return True\n",
    "            \n",
    "\n",
    "    def __str__(self):\n",
    "        return  str(self.cardinality) + \"-\" + str(self.distribution) + \"-\" + str(self.method)+ \"-\" +str(self.build_score) + \"-\" + str(self.build_score) + \"\\n\"\n",
    "    \n",
    "    def __repr__(self):\n",
    "                return  str(self.cardinality) + \"-\" + str(self.distribution) + \"-\" + str(self.method)+ \"-\" +str(self.build_score) + \"-\" + str(self.build_score) + \"\\n\""
   ]
  },
  {
   "cell_type": "code",
   "execution_count": 7,
   "id": "f15f14b4",
   "metadata": {
    "ExecuteTime": {
     "end_time": "2022-09-20T02:31:09.109008Z",
     "start_time": "2022-09-20T02:31:09.106066Z"
    }
   },
   "outputs": [],
   "source": [
    "def read_records(input_data_file):\n",
    "    records = []\n",
    "    with open(input_data_file) as csvfile:\n",
    "        reader = csv.reader(csvfile, delimiter = ',')\n",
    "        for i, row in enumerate(reader):\n",
    "            record = Record(row)\n",
    "            records.append(record)\n",
    "    return records"
   ]
  },
  {
   "cell_type": "code",
   "execution_count": 8,
   "id": "6314007a",
   "metadata": {
    "ExecuteTime": {
     "end_time": "2022-09-20T02:31:09.113419Z",
     "start_time": "2022-09-20T02:31:09.111198Z"
    }
   },
   "outputs": [],
   "source": [
    "def find_record(target, records):\n",
    "    for record in records:\n",
    "        if record.is_same(target):\n",
    "            return record\n",
    "    return None"
   ]
  },
  {
   "cell_type": "code",
   "execution_count": 9,
   "id": "d92ca95b",
   "metadata": {
    "ExecuteTime": {
     "end_time": "2022-09-20T02:31:09.185286Z",
     "start_time": "2022-09-20T02:31:09.114497Z"
    },
    "code_folding": []
   },
   "outputs": [
    {
     "ename": "NameError",
     "evalue": "name 'records' is not defined",
     "output_type": "error",
     "traceback": [
      "\u001b[0;31m---------------------------------------------------------------------------\u001b[0m",
      "\u001b[0;31mNameError\u001b[0m                                 Traceback (most recent call last)",
      "\u001b[0;32m/tmp/ipykernel_3740638/1170062643.py\u001b[0m in \u001b[0;36m<module>\u001b[0;34m\u001b[0m\n\u001b[1;32m     54\u001b[0m \u001b[0;34m\u001b[0m\u001b[0m\n\u001b[1;32m     55\u001b[0m \u001b[0;34m\u001b[0m\u001b[0m\n\u001b[0;32m---> 56\u001b[0;31m \u001b[0mtest_model\u001b[0m\u001b[0;34m(\u001b[0m\u001b[0mrecords\u001b[0m\u001b[0;34m)\u001b[0m\u001b[0;34m\u001b[0m\u001b[0;34m\u001b[0m\u001b[0m\n\u001b[0m",
      "\u001b[0;31mNameError\u001b[0m: name 'records' is not defined"
     ]
    }
   ],
   "source": [
    "def test_model(records):\n",
    "    distributions = {'normal':[1,0,0],'skewed':[0,1,0],'uniform':[0,0,1]}\n",
    "    methods = {'cl':[1,0,0,0,0,0],'mr':[0,1,0,0,0,0],'original':[0,0,1,0,0,0],\n",
    "                'rl':[0,0,0,1,0,0],'rs':[0,0,0,0,1,0],'sp':[0,0,0,0,0,1]}\n",
    "    cardinality = [1, 2, 4, 8, 16, 32, 64, 128, 200, 400, 600, 800, 1600, 3200, 6400]\n",
    "    lambdas = [0.1 * i for i in range(11)]\n",
    "    model_names = models.keys()\n",
    "\n",
    "        \n",
    "    for lamb in lambdas:\n",
    "        model_accuracy = {}\n",
    "        for name in model_names:\n",
    "            model_accuracy[name] = 0\n",
    "        for card in cardinality:\n",
    "            for dist in distributions.keys():\n",
    "                # here find a method\n",
    "                best_method = ''\n",
    "                max_score = -100\n",
    "                for method in methods.keys():\n",
    "                    record = []\n",
    "                    record.append(card)\n",
    "                    record.extend(distributions[dist])\n",
    "                    record.extend(methods[method])\n",
    "                    record.append(0)\n",
    "                    record.append(0)\n",
    "                    temp = Record(record)\n",
    "                    result = find_record(temp, records)\n",
    "                    if result is None:\n",
    "                        continue\n",
    "                    current_score = result.build_score * lamb + result.query_score * (1 - lamb)  \n",
    "                    \n",
    "                    if current_score > max_score:\n",
    "                        max_score = current_score\n",
    "                        best_method = method\n",
    "                if best_method == '':\n",
    "                    continue\n",
    "#                 print(\"lambda\", lamb, \"cardinality\", card, \"distribution\", dist, \"method\", best_method)\n",
    "                \n",
    "                for name in model_names:\n",
    "                    max_score = -100\n",
    "                    choosed_method = ''\n",
    "                    for method in methods.keys():\n",
    "                        record = []\n",
    "                        record.append(card)\n",
    "                        record.extend(distributions[dist])\n",
    "                        record.extend(methods[method])\n",
    "                        current_score = predict_score(models, name, [record], lamb)\n",
    "                        if current_score > max_score:\n",
    "                            max_score = current_score\n",
    "                            choosed_method = method\n",
    "                    if best_method == choosed_method:\n",
    "                        model_accuracy[name] = model_accuracy[name] + 1\n",
    "        print(model_accuracy)\n",
    "                   \n",
    "read_records(file_name)                  \n",
    "test_model(records)  "
   ]
  },
  {
   "cell_type": "code",
   "execution_count": null,
   "id": "93b5ffa5",
   "metadata": {},
   "outputs": [],
   "source": []
  }
 ],
 "metadata": {
  "kernelspec": {
   "display_name": "Python 3 (ipykernel)",
   "language": "python",
   "name": "python3"
  },
  "language_info": {
   "codemirror_mode": {
    "name": "ipython",
    "version": 3
   },
   "file_extension": ".py",
   "mimetype": "text/x-python",
   "name": "python",
   "nbconvert_exporter": "python",
   "pygments_lexer": "ipython3",
   "version": "3.9.7"
  },
  "toc": {
   "base_numbering": 1,
   "nav_menu": {},
   "number_sections": true,
   "sideBar": true,
   "skip_h1_title": false,
   "title_cell": "Table of Contents",
   "title_sidebar": "Contents",
   "toc_cell": false,
   "toc_position": {},
   "toc_section_display": true,
   "toc_window_display": false
  },
  "varInspector": {
   "cols": {
    "lenName": 16,
    "lenType": 16,
    "lenVar": 40
   },
   "kernels_config": {
    "python": {
     "delete_cmd_postfix": "",
     "delete_cmd_prefix": "del ",
     "library": "var_list.py",
     "varRefreshCmd": "print(var_dic_list())"
    },
    "r": {
     "delete_cmd_postfix": ") ",
     "delete_cmd_prefix": "rm(",
     "library": "var_list.r",
     "varRefreshCmd": "cat(var_dic_list()) "
    }
   },
   "types_to_exclude": [
    "module",
    "function",
    "builtin_function_or_method",
    "instance",
    "_Feature"
   ],
   "window_display": false
  }
 },
 "nbformat": 4,
 "nbformat_minor": 5
}
