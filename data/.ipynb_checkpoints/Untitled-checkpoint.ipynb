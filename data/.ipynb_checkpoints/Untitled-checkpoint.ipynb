{
 "cells": [
  {
   "cell_type": "code",
   "execution_count": 3,
   "id": "b1954891",
   "metadata": {
    "ExecuteTime": {
     "end_time": "2022-10-08T02:12:34.571277Z",
     "start_time": "2022-10-08T02:12:34.568442Z"
    }
   },
   "outputs": [],
   "source": [
    "import numpy as np\n",
    "import matplotlib.pyplot as plt\n",
    "import scipy.stats as stats\n",
    "import pandas as pd\n",
    "\n",
    "from scipy.stats import ks_2samp\n",
    "from scipy.stats import kstest\n",
    "import platform\n",
    "\n",
    "import math\n",
    "import sys\n",
    "import time\n",
    "\n",
    "# plt.rc('font',family='Times New Roman',size=20)\n",
    "# plt.rc('lines', linewidth=3)\n",
    "\n",
    "plt.rc('lines', linewidth=3)\n",
    "plt.rcParams['hatch.linewidth'] = 2\n",
    "# plt.rcParams['mathtext.default'] = 'DejaVu Sans'\n",
    "plt.rcParams['mathtext.fontset'] = 'cm'\n",
    "plt.rcParams['mathtext.rm'] = 'serif'\n",
    "\n",
    "labelsize=20\n",
    "fontsize=20\n",
    "legend_fontsize=12\n",
    "lw = 2\n",
    "import warnings\n",
    "warnings.filterwarnings(\"ignore\")\n",
    "ft=24"
   ]
  },
  {
   "cell_type": "code",
   "execution_count": 4,
   "id": "05773f03",
   "metadata": {
    "ExecuteTime": {
     "end_time": "2022-10-08T02:12:35.317328Z",
     "start_time": "2022-10-08T02:12:34.996603Z"
    }
   },
   "outputs": [
    {
     "data": {
      "image/png": "[encoded data removed]",
      "text/plain": [
       "<Figure size 432x288 with 1 Axes>"
      ]
     },
     "metadata": {
      "needs_background": "light"
     },
     "output_type": "display_data"
    }
   ],
   "source": [
    "x_sp=[217, 234, 239]\n",
    "y_sp=[0.727, 0.724, 0.717]\n",
    "plt.plot(x_sp,y_sp,'o-',  markersize=12, label=\"SP\",color='b', linestyle='-', linewidth=lw)\n",
    "\n",
    "x_rsp=[215, 228, 235]\n",
    "y_rsp=[0.739, 0.734, 0.728]\n",
    "plt.plot(x_rsp,y_rsp,'+',  markersize=12, label=\"RSP\",color='lightskyblue', linestyle='-', linewidth=lw)\n",
    "\n",
    "x_cl=[1635, 3598, 5202]\n",
    "y_cl=[0.725, 0.717, 0.715]\n",
    "\n",
    "plt.plot(x_cl,y_cl,'p-', markersize=12, label=\"CL\",color='g',linestyle='-',linewidth=lw)\n",
    "\n",
    "x_mr=[42, 47, 52]\n",
    "y_mr=[0.732, 0.729, 0.727]\n",
    "label_mr=[0.5,0.1]\n",
    "plt.plot(x_mr, y_mr,'^' , markersize=12, label=\"MR\",color='orange',linestyle='-',linewidth=lw)\n",
    "\n",
    "x_rs=[337, 368, 415]\n",
    "y_rs=[0.721,0.717,0.712]\n",
    "plt.plot(x_rs,y_rs,'d-',  markersize=12, label=\"RS\",color='purple', linestyle='-', linewidth=lw)\n",
    "\n",
    "x_rl=[364, 467, 572]\n",
    "y_rl=[0.721, 0.717, 0.713]\n",
    "plt.plot(x_rl,y_rl,'s-' , markersize=12, label=\"RL\",color='gray',linestyle='-',linewidth=lw)\n",
    "\n",
    "\n",
    "x_og=[1778]\n",
    "y_og=[0.72]\n",
    "plt.plot(x_og,y_og,'*' , markersize=12, label=\"OG\",color='r',linestyle='-',linewidth=lw)\n",
    "\n",
    "plt.scatter(x_sp[0],y_sp[0],marker='o',facecolor=\"None\",edgecolors='black', s=350)\n",
    "plt.scatter(x_rs[0],y_rs[0],marker='o',facecolor=\"None\",edgecolors='black', s=350)\n",
    "plt.scatter(x_rl[0],y_rl[0],marker='o',facecolor=\"None\",edgecolors='black', s=350)\n",
    "plt.scatter(x_cl[0],y_cl[0],marker='o',facecolor=\"None\",edgecolors='black', s=350)\n",
    "plt.scatter(x_mr[0],y_mr[0],marker='o',facecolor=\"None\",edgecolors='black', s=350)\n",
    "plt.scatter(x_og[0],y_og[0],marker='o',facecolor=\"None\",edgecolors='black', s=350)\n",
    "\n",
    "\n",
    "plt.xticks(fontsize=ft)\n",
    "plt.xticks(fontsize=ft)\n",
    "\n",
    "plt.xlim([30, 6000])\n",
    "# plt.title(\"Z-order mapping\",fontsize=28)\n",
    "# plt.title(\"ZM\",fontsize=ft)\n",
    "plt.xscale('log')\n",
    "# plt.xlabel('Build time (s)', fontsize=28)\n",
    "plt.ylabel('Point query time (μs)', fontsize=ft)\n",
    "plt.grid(True, linestyle='-.',)\n",
    "plt.tick_params(labelsize=fontsize)\n",
    "# plt.xticks(x)\n",
    "plt.tight_layout()"
   ]
  },
  {
   "cell_type": "code",
   "execution_count": null,
   "id": "6c69094a",
   "metadata": {},
   "outputs": [],
   "source": []
  }
 ],
 "metadata": {
  "kernelspec": {
   "display_name": "Python 3 (ipykernel)",
   "language": "python",
   "name": "python3"
  },
  "language_info": {
   "codemirror_mode": {
    "name": "ipython",
    "version": 3
   },
   "file_extension": ".py",
   "mimetype": "text/x-python",
   "name": "python",
   "nbconvert_exporter": "python",
   "pygments_lexer": "ipython3",
   "version": "3.9.7"
  },
  "toc": {
   "base_numbering": 1,
   "nav_menu": {},
   "number_sections": true,
   "sideBar": true,
   "skip_h1_title": false,
   "title_cell": "Table of Contents",
   "title_sidebar": "Contents",
   "toc_cell": false,
   "toc_position": {},
   "toc_section_display": true,
   "toc_window_display": false
  },
  "varInspector": {
   "cols": {
    "lenName": 16,
    "lenType": 16,
    "lenVar": 40
   },
   "kernels_config": {
    "python": {
     "delete_cmd_postfix": "",
     "delete_cmd_prefix": "del ",
     "library": "var_list.py",
     "varRefreshCmd": "print(var_dic_list())"
    },
    "r": {
     "delete_cmd_postfix": ") ",
     "delete_cmd_prefix": "rm(",
     "library": "var_list.r",
     "varRefreshCmd": "cat(var_dic_list()) "
    }
   },
   "types_to_exclude": [
    "module",
    "function",
    "builtin_function_or_method",
    "instance",
    "_Feature"
   ],
   "window_display": false
  }
 },
 "nbformat": 4,
 "nbformat_minor": 5
}
